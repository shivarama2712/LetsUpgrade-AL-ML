{
 "cells": [
  {
   "cell_type": "markdown",
   "metadata": {},
   "source": [
    "# Q-1"
   ]
  },
  {
   "cell_type": "code",
   "execution_count": 3,
   "metadata": {},
   "outputs": [
    {
     "data": {
      "text/plain": [
       "(1+0j)"
      ]
     },
     "execution_count": 3,
     "metadata": {},
     "output_type": "execute_result"
    }
   ],
   "source": [
    "a=2+5j\n",
    "b=1+5j\n",
    "c=a-b\n",
    "c"
   ]
  },
  {
   "cell_type": "markdown",
   "metadata": {},
   "source": [
    "# Q-2"
   ]
  },
  {
   "cell_type": "code",
   "execution_count": 39,
   "metadata": {},
   "outputs": [
    {
     "name": "stdout",
     "output_type": "stream",
     "text": [
      "3.0\n"
     ]
    }
   ],
   "source": [
    "a=81**(1/4)\n",
    "print(a)"
   ]
  },
  {
   "cell_type": "markdown",
   "metadata": {},
   "source": [
    "# Q-3"
   ]
  },
  {
   "cell_type": "code",
   "execution_count": 23,
   "metadata": {},
   "outputs": [
    {
     "name": "stdout",
     "output_type": "stream",
     "text": [
      "before swap a = 3\n",
      "before swap b = 2\n",
      "After swap a = 2\n",
      "After swap b = 3\n"
     ]
    }
   ],
   "source": [
    "a=3\n",
    "b=2\n",
    "print(\"before swap a =\",a)\n",
    "print(\"before swap b =\",b)\n",
    "t=a\n",
    "a=b\n",
    "b=t\n",
    "print(\"After swap a =\",a)\n",
    "print(\"After swap b =\",b)"
   ]
  },
  {
   "cell_type": "markdown",
   "metadata": {},
   "source": [
    "# Q-4"
   ]
  },
  {
   "cell_type": "code",
   "execution_count": 24,
   "metadata": {},
   "outputs": [
    {
     "name": "stdout",
     "output_type": "stream",
     "text": [
      "3 2\n"
     ]
    }
   ],
   "source": [
    "a=2\n",
    "b=3\n",
    "a,b=b,a\n",
    "print(a , b)"
   ]
  },
  {
   "cell_type": "markdown",
   "metadata": {},
   "source": [
    "# Q-5"
   ]
  },
  {
   "cell_type": "code",
   "execution_count": 28,
   "metadata": {},
   "outputs": [
    {
     "name": "stdout",
     "output_type": "stream",
     "text": [
      "kelvin =  311.27777777777777\n",
      "celsius =  37.77777777777778\n"
     ]
    }
   ],
   "source": [
    "fahrenheit=100\n",
    "kelvin = 273.5 + ((fahrenheit - 32.0) * (5.0/9.0))\n",
    "celsius = (fahrenheit - 32) * 5 / 9\n",
    "print(\"kelvin = \" ,kelvin)\n",
    "print(\"celsius = \",celsius)"
   ]
  },
  {
   "cell_type": "markdown",
   "metadata": {},
   "source": [
    "# Q-6"
   ]
  },
  {
   "cell_type": "code",
   "execution_count": 34,
   "metadata": {},
   "outputs": [
    {
     "name": "stdout",
     "output_type": "stream",
     "text": [
      "<class 'int'>\n",
      "<class 'str'>\n",
      "<class 'complex'>\n",
      "<class 'float'>\n"
     ]
    }
   ],
   "source": [
    "a=1\n",
    "b=\"str\"\n",
    "d=2+5j\n",
    "e=2.65\n",
    "print(type(a))\n",
    "print(type(b))\n",
    "print(type(d))\n",
    "print(type(e))\n"
   ]
  },
  {
   "cell_type": "markdown",
   "metadata": {},
   "source": [
    "# Q-7 "
   ]
  },
  {
   "cell_type": "markdown",
   "metadata": {},
   "source": [
    "1.create day3 on your pc \n",
    "\n",
    "2.open notebook google colab \n",
    "\n",
    "3.done the assignment save into day3 folder as day3\n",
    "\n",
    "4.create github profile and create public repository as LetsUpgrade AI/ML\n",
    "\n",
    "5.upload the day3 folder into the repositary then open that folder assignment file will be there\n",
    "\n",
    "6.copy that url \n",
    "\n",
    "7.open assignment submission form and fill the details appropriate and paste the link and then submit\n",
    "\n"
   ]
  },
  {
   "cell_type": "code",
   "execution_count": null,
   "metadata": {},
   "outputs": [],
   "source": []
  }
 ],
 "metadata": {
  "kernelspec": {
   "display_name": "Python 3",
   "language": "python",
   "name": "python3"
  },
  "language_info": {
   "codemirror_mode": {
    "name": "ipython",
    "version": 3
   },
   "file_extension": ".py",
   "mimetype": "text/x-python",
   "name": "python",
   "nbconvert_exporter": "python",
   "pygments_lexer": "ipython3",
   "version": "3.7.4"
  }
 },
 "nbformat": 4,
 "nbformat_minor": 2
}
