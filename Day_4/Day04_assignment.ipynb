{
 "cells": [
  {
   "cell_type": "markdown",
   "metadata": {},
   "source": [
    "# Question 1 :\n",
    "\n",
    "Research on whether addition, subtraction, multiplication, division, floor division and modulo\n",
    "operations be performed on complex numbers. Based on your study, implement a Python\n",
    "program to demonstrate these operations.\n"
   ]
  },
  {
   "cell_type": "code",
   "execution_count": 4,
   "metadata": {},
   "outputs": [
    {
     "name": "stdout",
     "output_type": "stream",
     "text": [
      "(8+7j)\n",
      "(4-3j)\n",
      "(2+34j)\n",
      "(0.7586206896551725-0.896551724137931j)\n"
     ]
    }
   ],
   "source": [
    "a=6+2j\n",
    "b=2+5j\n",
    "print(a+b)\n",
    "print(a-b)\n",
    "print(a*b)\n",
    "print(a/b)"
   ]
  },
  {
   "cell_type": "markdown",
   "metadata": {},
   "source": [
    "modulas and floor division operators are not working on complex numbers but log,sqrt and some other functions can perform using math library"
   ]
  },
  {
   "cell_type": "markdown",
   "metadata": {},
   "source": [
    "# Question 2 :\n",
    "Research on range() functions and its parameters. Create a markdown cell and write in your own\n",
    "words (no copy-paste from google please) what you understand about it. Implement a small\n",
    "program of your choice on the same."
   ]
  },
  {
   "cell_type": "markdown",
   "metadata": {},
   "source": [
    "1.range() has 3 parameters i.e  start,stop and step size\n",
    "\n",
    "2.start used to where the numbers to start\n",
    "\n",
    "3.stop used to where the numbers to stop(number-1)\n",
    "\n",
    "4.step size used to give constant diffence of one number to another number in \n",
    "the range of start and end value"
   ]
  },
  {
   "cell_type": "code",
   "execution_count": 14,
   "metadata": {},
   "outputs": [
    {
     "name": "stdout",
     "output_type": "stream",
     "text": [
      "[0, 1, 2, 3, 4]\n",
      "[2, 3, 4]\n",
      "[2, 5, 8, 11, 14, 17]\n",
      "0\n",
      "1\n",
      "2\n",
      "3\n",
      "4\n"
     ]
    }
   ],
   "source": [
    "print(list(range(5))) # by default it takes 0 as starting number\n",
    "print(list(range(2,5)))\n",
    "print(list(range(2,20,3)))\n",
    "for i in range(5):\n",
    "    print(i)"
   ]
  },
  {
   "cell_type": "markdown",
   "metadata": {},
   "source": [
    "# Question 3:\n",
    "Consider two numbers. Perform their subtraction and if the result of subtraction is greater than\n",
    "25, print their multiplication result else print their division result.\n"
   ]
  },
  {
   "cell_type": "code",
   "execution_count": 15,
   "metadata": {},
   "outputs": [
    {
     "name": "stdout",
     "output_type": "stream",
     "text": [
      "750\n"
     ]
    }
   ],
   "source": [
    "a=50\n",
    "b=15\n",
    "c=a-b\n",
    "if c>25:\n",
    "    print(a*b)\n",
    "else:\n",
    "    print(a/b)"
   ]
  },
  {
   "cell_type": "code",
   "execution_count": 16,
   "metadata": {},
   "outputs": [
    {
     "name": "stdout",
     "output_type": "stream",
     "text": [
      "1.6666666666666667\n"
     ]
    }
   ],
   "source": [
    "a=50\n",
    "b=30\n",
    "c=a-b\n",
    "if c>25:\n",
    "    print(a*b)\n",
    "else:\n",
    "    print(a/b)"
   ]
  },
  {
   "cell_type": "markdown",
   "metadata": {},
   "source": [
    "# Question 4:\n",
    "Consider a list of 10 elements of integer values. If the number in the list is divisible by 2, print the\n",
    "result as \"square of that number minus 2\".\n"
   ]
  },
  {
   "cell_type": "code",
   "execution_count": 31,
   "metadata": {},
   "outputs": [
    {
     "name": "stdout",
     "output_type": "stream",
     "text": [
      "[5, 6, 8, 7, 5, 4, 9, 12, 14, 9]\n",
      "square of 5 -  2  = 23\n",
      "square of 6 -  2  = 34\n",
      "square of 8 -  2  = 62\n",
      "square of 7 -  2  = 47\n",
      "square of 5 -  2  = 23\n",
      "square of 4 -  2  = 14\n",
      "square of 9 -  2  = 79\n",
      "square of 12 -  2  = 142\n",
      "square of 14 -  2  = 194\n",
      "square of 9 -  2  = 79\n"
     ]
    }
   ],
   "source": [
    "list1=[5,6,8,7,5,4,9,12,14,9]\n",
    "print(list1)\n",
    "for i in list1:\n",
    "    if i/2:\n",
    "        print(\"square of\",i,\"-\",\" 2\",\" =\",i**2-2)  "
   ]
  },
  {
   "cell_type": "markdown",
   "metadata": {},
   "source": [
    "# Question 5:\n",
    "Consider a list of 10 elements. Print all the elements in the list which are greater than 7 when that\n",
    "number is divided 2."
   ]
  },
  {
   "cell_type": "code",
   "execution_count": 32,
   "metadata": {},
   "outputs": [
    {
     "name": "stdout",
     "output_type": "stream",
     "text": [
      "[5, 6, 8, 7, 5, 4, 9, 12, 14, 9]\n",
      "8\n",
      "9\n",
      "12\n",
      "14\n",
      "9\n"
     ]
    }
   ],
   "source": [
    "list1=[5,6,8,7,5,4,9,12,14,9]\n",
    "print(list1)\n",
    "for i in list1:\n",
    "    if i/2:\n",
    "        if i>7:\n",
    "            print(i)\n",
    "            \n",
    "            \n",
    "        "
   ]
  },
  {
   "cell_type": "code",
   "execution_count": null,
   "metadata": {},
   "outputs": [],
   "source": []
  }
 ],
 "metadata": {
  "kernelspec": {
   "display_name": "Python 3",
   "language": "python",
   "name": "python3"
  },
  "language_info": {
   "codemirror_mode": {
    "name": "ipython",
    "version": 3
   },
   "file_extension": ".py",
   "mimetype": "text/x-python",
   "name": "python",
   "nbconvert_exporter": "python",
   "pygments_lexer": "ipython3",
   "version": "3.7.4"
  }
 },
 "nbformat": 4,
 "nbformat_minor": 2
}
