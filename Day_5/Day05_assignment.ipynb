{
 "cells": [
  {
   "cell_type": "markdown",
   "metadata": {},
   "source": [
    "# Question 1 :\n",
    "Write a Python program to find the first 20 non-even prime natural numbers."
   ]
  },
  {
   "cell_type": "code",
   "execution_count": null,
   "metadata": {},
   "outputs": [],
   "source": []
  },
  {
   "cell_type": "markdown",
   "metadata": {},
   "source": [
    "# Question 2 :\n",
    "Write a Python program to implement 15 functions of string."
   ]
  },
  {
   "cell_type": "code",
   "execution_count": 9,
   "metadata": {},
   "outputs": [
    {
     "name": "stdout",
     "output_type": "stream",
     "text": [
      "shivarama2402@gmail.com\n",
      "shivarama2402@gmail.com\n",
      "SHIVARAMA2402@GMAIL.COM\n",
      "shiva\n",
      "False\n",
      "True\n",
      "Shiva\n",
      "4\n",
      "4\n",
      "['shivarama2402@gmail.com']\n",
      "False\n",
      "shivarama2402@gmail.com\n"
     ]
    }
   ],
   "source": [
    "str=\"shivarama2402@gmail.com\"\n",
    "str1=\"Shiva\"\n",
    "print(str.format())\n",
    "print(str.lower())\n",
    "print(str.upper())\n",
    "print(str.replace(str,\"shiva\"))\n",
    "print(str.isupper())\n",
    "print(str.islower())\n",
    "print(str1.capitalize())\n",
    "print(str.count(\"a\"))\n",
    "print(str.index(\"a\"))\n",
    "print(str.split())\n",
    "print(str.isnumeric())\n",
    "print(str.translate(str))\n"
   ]
  },
  {
   "cell_type": "markdown",
   "metadata": {},
   "source": [
    "# Question 3:\n",
    "Write a Python program to check if the given string is a Palindrome or Anagram or None of them.\n",
    "Display the message accordingly to the user.\n"
   ]
  },
  {
   "cell_type": "code",
   "execution_count": 6,
   "metadata": {},
   "outputs": [
    {
     "name": "stdout",
     "output_type": "stream",
     "text": [
      "malayalam\n",
      "String are anagrams\n"
     ]
    }
   ],
   "source": [
    "x = input()\n",
    "y=reversed(x)\n",
    "if (x==y):\n",
    "    print(\"String are palindrom\")\n",
    "elif (sorted(x)==sorted(y)):\n",
    "      print(\"String are anagrams\")\n",
    "else:\n",
    "     print(\"none of them\")"
   ]
  },
  {
   "cell_type": "markdown",
   "metadata": {},
   "source": [
    "# Question 4:\n",
    "Write a Python's user defined function that removes all the additional characters from the string and converts it finally to lower case using built-in lower(). eg: If the string is \"Dr. Darshan Ingle @AI-ML Trainer\", then the output be \"drdarshaningleaimltrainer\"."
   ]
  },
  {
   "cell_type": "code",
   "execution_count": 15,
   "metadata": {},
   "outputs": [
    {
     "name": "stdout",
     "output_type": "stream",
     "text": [
      "drdarshaningleaimltrainer\n"
     ]
    }
   ],
   "source": [
    "str= \"Dr. Darshan Ingle @AI-ML Trainer\"\n",
    "str1=\"\"\n",
    "for i in str:\n",
    "    if i.isalnum():\n",
    "        str1 += i\n",
    "print(str1.lower())\n",
    "    "
   ]
  },
  {
   "cell_type": "code",
   "execution_count": null,
   "metadata": {},
   "outputs": [],
   "source": []
  }
 ],
 "metadata": {
  "kernelspec": {
   "display_name": "Python 3",
   "language": "python",
   "name": "python3"
  },
  "language_info": {
   "codemirror_mode": {
    "name": "ipython",
    "version": 3
   },
   "file_extension": ".py",
   "mimetype": "text/x-python",
   "name": "python",
   "nbconvert_exporter": "python",
   "pygments_lexer": "ipython3",
   "version": "3.7.4"
  }
 },
 "nbformat": 4,
 "nbformat_minor": 2
}
